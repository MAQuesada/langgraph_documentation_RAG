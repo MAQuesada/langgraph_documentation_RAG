{
  "cells": [
    {
      "cell_type": "markdown",
      "id": "5a1af60d",
      "metadata": {},
      "source": [
        "## Setup "
      ]
    },
    {
      "cell_type": "code",
      "execution_count": null,
      "id": "822d5262",
      "metadata": {},
      "outputs": [],
      "source": [
        "from vector_database.src.text_splitter import chunk_documents, save_chunks_to_disk\n",
        "from vector_database.src.utils import load_config\n",
        "\n",
        "from dotenv import load_dotenv\n",
        "from pathlib import Path\n",
        "\n",
        "# 1. Load environment\n",
        "load_dotenv()\n",
        "\n",
        "# 2. Load config\n",
        "config_path = Path(\"config.yaml\")\n",
        "config = load_config(config_path)\n"
      ]
    },
    {
      "cell_type": "markdown",
      "id": "3d9b8825",
      "metadata": {},
      "source": [
        "## Download documents only if needed"
      ]
    },
    {
      "cell_type": "code",
      "execution_count": null,
      "id": "23bf1adc",
      "metadata": {},
      "outputs": [],
      "source": [
        "from vector_database.src.documentation_loader import clone_repo, cleanup_old_outputs\n",
        "\n",
        "# 3. If you want to download the docs from GitHub again, run this:\n",
        "cleanup_old_outputs()\n",
        "clone_repo(config)\n",
        "\n"
      ]
    },
    {
      "cell_type": "markdown",
      "id": "f7dff681",
      "metadata": {},
      "source": [
        "## Load the Documents"
      ]
    },
    {
      "cell_type": "code",
      "execution_count": null,
      "id": "a64b7965",
      "metadata": {},
      "outputs": [],
      "source": [
        "from vector_database.src.documentation_loader import load_documents\n",
        "\n",
        "# 4. Load documents\n",
        "docs_path = config['data_source']['github']['target_path']\n",
        "all_docs = load_documents(docs_path)"
      ]
    },
    {
      "cell_type": "markdown",
      "id": "4f76b5e4",
      "metadata": {},
      "source": [
        "## Split documents"
      ]
    },
    {
      "cell_type": "code",
      "execution_count": null,
      "id": "78a230ab",
      "metadata": {},
      "outputs": [],
      "source": [
        "\n",
        "# 5. Chunk and save\n",
        "chunks = chunk_documents(all_docs, config)\n",
        "save_chunks_to_disk(chunks)"
      ]
    },
    {
      "cell_type": "markdown",
      "id": "1ab1f94e",
      "metadata": {},
      "source": [
        "## Populate Qdrant Vector Database"
      ]
    },
    {
      "cell_type": "code",
      "execution_count": null,
      "id": "3be34645",
      "metadata": {},
      "outputs": [],
      "source": [
        "from vector_database.src.vector_store import store_embeddings\n",
        "\n",
        "# 6. Store embeddings to Qdrant\n",
        "store_embeddings(chunks, config)"
      ]
    },
    {
      "cell_type": "markdown",
      "id": "ead83bce",
      "metadata": {},
      "source": [
        "## LangChain vector database  to use in RAG"
      ]
    },
    {
      "cell_type": "code",
      "execution_count": null,
      "id": "0b37a26c",
      "metadata": {},
      "outputs": [],
      "source": [
        "from langchain_qdrant import QdrantVectorStore\n",
        "from qdrant_client import QdrantClient\n",
        "from qdrant_client.http.models import Distance, VectorParams\n",
        "\n",
        "from vector_database.src.vector_store import COLLECTION_NAME,client,embeddings\n",
        "\n",
        "\n",
        "# client.create_collection(\n",
        "#     collection_name=COLLECTION_NAME,\n",
        "#     vectors_config=VectorParams(size=1024, distance=Distance.COSINE),\n",
        "# )\n",
        "\n",
        "vector_store = QdrantVectorStore(\n",
        "    client=client,\n",
        "    collection_name=COLLECTION_NAME,\n",
        "    embedding=embeddings,\n",
        ")"
      ]
    }
  ],
  "metadata": {
    "kernelspec": {
      "display_name": ".venv",
      "language": "python",
      "name": "python3"
    },
    "language_info": {
      "codemirror_mode": {
        "name": "ipython",
        "version": 3
      },
      "file_extension": ".py",
      "mimetype": "text/x-python",
      "name": "python",
      "nbconvert_exporter": "python",
      "pygments_lexer": "ipython3",
      "version": "3.12.2"
    }
  },
  "nbformat": 4,
  "nbformat_minor": 5
}
