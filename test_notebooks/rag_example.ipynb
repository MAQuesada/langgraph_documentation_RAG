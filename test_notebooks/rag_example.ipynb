{
  "cells": [
    {
      "cell_type": "markdown",
      "id": "f11bf335",
      "metadata": {},
      "source": [
        "## Setup and getting prompts"
      ]
    },
    {
      "cell_type": "code",
      "execution_count": 1,
      "id": "b4e1a59f",
      "metadata": {},
      "outputs": [],
      "source": [
        "from prompts.core import PromptBuilder\n",
        "from IPython.core.display import Image\n",
        "\n",
        "from dotenv import load_dotenv\n",
        "import os\n",
        "\n",
        "load_dotenv()\n",
        "builder = PromptBuilder(config_path=\"../prompts/config.yaml\")\n",
        "\n",
        "config = {\"configurable\": {\"thread_id\": \"manuel_test\"}}"
      ]
    },
    {
      "cell_type": "code",
      "execution_count": 2,
      "id": "624703bb",
      "metadata": {},
      "outputs": [
        {
          "name": "stdout",
          "output_type": "stream",
          "text": [
            "## ROLE:\n",
            "- You are a assistant to help the users with the documentation of Langgraph.\n",
            "\n",
            "## Your goal is to achieve the following outcome:\n",
            "- To know when the conversation is related to the content that involves Langgraph and can be answered using Langgraph documentation and insights.\n",
            "\n",
            "## Your task is as follows:\n",
            "- Identify the topic of the conversation. If the topic is related to the content of Langgraph, you can continue the conversation. If the topic is not related to the content of Langgraph, you must answer politely and explain why the topic is not related to the content of Langgraph.\n",
            "\n",
            "## Here's some background that may help you:\n",
            "- LangGraph, created by LangChain, is an open source AI agent framework designed to build, deploy and manage complex generative AI agent workflows. It provides a set of tools and libraries that enable users to create, run and optimize large language models (LLMs) in a scalable and efficient manner. At its core, LangGraph uses the power of graph-based architectures to model and manage the intricate relationships between various components of an AI agent workflow. The key components of LangGraph are:\n",
            "  - Human-in-the-loop (HITL): Human-in-the-loop (HITL) refers to the requirement of human interaction at some point in the process. In the realm of machine learning (ML), HITL refers to a collaborative process where humans augment the computational capabilities of machines to make informed decisions while building a model. By using the most critical data points, HITL enhances the accuracy of machine learning algorithms, surpassing random sampling methods.\n",
            "  - Graph architecture: LangGraph uses the power of graph-based architectures to model and manage the intricate relationships between various components of an AI agent workflow.\n",
            "    - Stateful graphs: Each node represents a step in the computation, devising a state graph. The graph retains information about previous steps for continuous contextual processing. Users can manage stateful graphs via APIs.\n",
            "    - Cyclical graph:  A cyclical graph is any graph that contains at least one cycle and is essential for agent runtimes. This means that there exists a path that starts and ends at the same node, forming a loop within the graph. Complex workflows often involve cyclic dependencies, where the outcome of one step depends on previous steps in the loop.\n",
            "    - Nodes: In LangGraph, nodes represent individual components or agents within an AI workflow. Nodes can be thought of as “actors” that interact with each other in a specific way. For example, to add nodes for tool calling, one can use the ToolNode. Another example, the next node, refers to the node that will be executed following the current one.\n",
            "    - Edges: Edges are a function within Python that determines which node to execute next based on the current state. Edges can be conditional branches or fixed transitions.\n",
            "  - Tools:\n",
            "    - RAG: Retrieval-augmented generation (RAG) combines the power of LLMs with contextual information from external sources by retrieving relevant documents, which are then used as input for answer generation.\n",
            "    - Workflows: Workflows are the sequences of node interactions that define an AI workflow. By arranging nodes into a workflow, users can create more complex and dynamic workflows that use the strengths of individual components.\n",
            "    - APIs: LangGraph provides a set of APIs that enable users to interact with its components in a programmatic way. Users can use an API key, add new nodes, modify existing workflows and retrieve data from an AI workflow.\n",
            "    - LangSmith: LangSmith is a specialized API for building and managing LLMs within LangGraph. It provides tools for initializing LLMs, adding conditional edges and optimizing performance. By combining these components in innovative ways, users can build more sophisticated AI workflows that use the strengths of individual components.\n",
            "\n",
            "\n",
            "## Ensure your response follows these rules:\n",
            "- When the user ask for a topic no related to the Content mentioned in the context, you must return politely a message saying that the topic is not related to the content.\n",
            "- When the user ask for a topic related to the Content mentioned in the context you only need to return true:\n",
            "- The user input doesn't need to include exactly the name like 'Langgraph' u other but the topic should be related to the content.\n",
            "\n",
            "\n",
            "## Structure your response as follows:\n",
            "- Json format with the following fields:\n",
            "  - 'related_topic': when the topic is related to the content.\n",
            "  - 'answer': when the topic is not related to the content.\n",
            "\n",
            "\n",
            "Now perform the task as instructed above.\n"
          ]
        }
      ],
      "source": [
        "topic_guard_prompt,_ = builder.build_prompt(file_path=\"../prompts/topic_guard.yml\")\n",
        "\n",
        "print(topic_guard_prompt)"
      ]
    },
    {
      "cell_type": "code",
      "execution_count": 17,
      "id": "3ef932e8",
      "metadata": {},
      "outputs": [
        {
          "name": "stdout",
          "output_type": "stream",
          "text": [
            "## ROLE:\n",
            "- You are a helpful assistant to answer the user questions using the LangGraph documentation and insights.\n",
            "\n",
            "## Your goal is to achieve the following outcome:\n",
            "- To answer the user questions using only the LangGraph documentation and insights.\n",
            "\n",
            "## Your task is as follows:\n",
            "- You must use the information of history messages to work more accurately.\n",
            "- Generate the query or set of queries to retrieve information related to the user question.\n",
            "- Always split in sub-queries if needed to retrieve all the information needed to answer the user question.\n",
            "- When you have all the information needed to answer the user, you can answer the user.\n",
            "- If you cannot use any more the retriever tool, you must respond with the information you have retrieved, or if you don't have any information retrieved, you must respond politely and explain why you cannot answer the user question.\n",
            "\n",
            "\n",
            "## Ensure your response follows these rules:\n",
            "- If the retrieved information contains examples of code or usage of LangGraph, you must include them in your answer.\n",
            "- You never can generate fake information or examples of code or usage of LangGraph that are not present in the retrieved information.\n",
            "- When the user question is only theoretical, you must answer using the retrieved information as well.\n",
            "- Only include in the answer the the user the `Final Answer` generated by you.\n",
            "\n",
            "\n",
            "## Structure your response as follows:\n",
            "- Your answer must be in markdown format.\n",
            "\n",
            "Use this systematic approach to provide your response:\n",
            "1. Thought: What approaches could I take to solve this?\n",
            "2. Action: Choose and implement the best approach\n",
            "3. Observation: What happened? What did I learn?\n",
            "4. Reflection: Do I have enough information to provide my final answer, or should I try a different approach?\n",
            "\n",
            "(Repeat steps 1-4 as needed)\n",
            "\n",
            "Then provide your final answer.\n",
            "\n",
            "Now perform the task as instructed above.\n"
          ]
        }
      ],
      "source": [
        "rag_system_prompt,_ = builder.build_prompt(file_path=\"../prompts/rag_system_prompt.yml\")\n",
        "\n",
        "print(rag_system_prompt)"
      ]
    },
    {
      "cell_type": "markdown",
      "id": "bf9cd676",
      "metadata": {},
      "source": [
        "## Checkpoint to add memory to the chatbot"
      ]
    },
    {
      "cell_type": "code",
      "execution_count": 18,
      "id": "4b8e3d89",
      "metadata": {},
      "outputs": [],
      "source": [
        "from psycopg_pool import ConnectionPool\n",
        "\n",
        "from rag_pipeline.utils import PostgresSaverCustom\n",
        "\n",
        "\n",
        "DB_URI = os.environ.get(\"POSTGRES_DB_URI\")\n",
        "connection_kwargs = {\n",
        "    \"autocommit\": True,\n",
        "    \"prepare_threshold\": 0,\n",
        "}\n",
        "\n",
        "# conservatively set the pool size to 3\n",
        "pool = ConnectionPool(\n",
        "    conninfo=DB_URI,\n",
        "    min_size=3,\n",
        "    max_size=3,\n",
        "    max_waiting=12,\n",
        "    max_idle=180,\n",
        "    kwargs=connection_kwargs,\n",
        ")\n",
        "checkpointer = PostgresSaverCustom(pool)\n",
        "\n",
        "# NOTE: you need to call .setup() the first time you're using your checkpointer\n",
        "checkpointer.setup()"
      ]
    },
    {
      "cell_type": "markdown",
      "id": "84059bb4",
      "metadata": {},
      "source": [
        "## Fake Vector Store\n"
      ]
    },
    {
      "cell_type": "code",
      "execution_count": 19,
      "id": "c0727ab5",
      "metadata": {},
      "outputs": [],
      "source": [
        "from langchain_openai.embeddings import OpenAIEmbeddings\n",
        "from langchain_text_splitters import RecursiveCharacterTextSplitter\n",
        "from langchain_core.documents import Document\n",
        "from langchain_core.vectorstores import InMemoryVectorStore\n",
        "\n",
        "embeddings = OpenAIEmbeddings()\n",
        "vector_store = InMemoryVectorStore(embeddings)\n",
        "\n",
        "docs = [\n",
        "    Document(\n",
        "        page_content=\"\"\" \n",
        "- LangGraph, created by LangChain, is an open source AI agent framework designed to build, deploy and manage complex generative AI agent workflows. It provides a set of tools and libraries that enable users to create, run and optimize large language models (LLMs) in a scalable and efficient manner. At its core, LangGraph uses the power of graph-based architectures to model and manage the intricate relationships between various components of an AI agent workflow.\n",
        "\n",
        "- Key components of LangGraph\n",
        "\n",
        "\n",
        "  - Monitoring mechanism\n",
        "    - Human-in-the-loop (HITL): Human-in-the-loop (HITL) refers to the requirement of human interaction at some point in the process. In the realm of machine learning (ML), HITL refers to a collaborative process where humans augment the computational capabilities of machines to make informed decisions while building a model. By using the most critical data points, HITL enhances the accuracy of machine learning algorithms, surpassing random sampling methods.\n",
        "\n",
        "  - Graph architecture\n",
        "    - Stateful graphs: A concept where each node in the graph represents a step in the computation, essentially devising a state graph. This stateful approach allows the graph to retain information about the previous steps, enabling continuous and contextual processing of information as the computation unfolds. Users can manage all LangGraph’s stateful graphs with its APIs.\n",
        "    - Cyclical graph: A cyclical graph is any graph that contains at least one cycle and is essential for agent runtimes. This means that there exists a path that starts and ends at the same node, forming a loop within the graph. Complex workflows often involve cyclic dependencies, where the outcome of one step depends on previous steps in the loop.\n",
        "    - Nodes: In LangGraph, nodes represent individual components or agents within an AI workflow. Nodes can be thought of as “actors” that interact with each other in a specific way. For example, to add nodes for tool calling, one can use the ToolNode. Another example, the next node, refers to the node that will be executed following the current one.\n",
        "    - Edges: Edges are a function within Python that determines which node to execute next based on the current state. Edges can be conditional branches or fixed transitions.\n",
        "\n",
        "  - Tools\n",
        "    - RAG: Retrieval-augmented generation (RAG) combines the power of LLMs with contextual information from external sources by retrieving relevant documents, which are then used as input for answer generation.\n",
        "    - Workflows: Workflows are the sequences of node interactions that define an AI workflow. By arranging nodes into a workflow, users can create more complex and dynamic workflows that use the strengths of individual components.\n",
        "\n",
        "    - APIs: LangGraph provides a set of APIs that enable users to interact with its components in a programmatic way. Users can use an API key, add new nodes, modify existing workflows and retrieve data from an AI workflow.\n",
        "\n",
        "    - LangSmith: LangSmith is a specialized API for building and managing LLMs within LangGraph. It provides tools for initializing LLMs, adding conditional edges and optimizing performance. By combining these components in innovative ways, users can build more sophisticated AI workflows that use the strengths of individual components.\"\"\",\n",
        "        metadata={\"source\": \"https://langchain-ai.github.io/langgraph/tutorials/get-started/1-build-basic-chatbot/\"}\n",
        "    )\n",
        "]\n",
        "\n",
        "text_splitter = RecursiveCharacterTextSplitter(\n",
        "    chunk_size=5000, chunk_overlap=1000)\n",
        "all_splits = text_splitter.split_documents(docs)\n",
        "\n",
        "# Index chunks\n",
        "_ = vector_store.add_documents(documents=all_splits)"
      ]
    },
    {
      "cell_type": "code",
      "execution_count": 20,
      "id": "4a70c89f",
      "metadata": {},
      "outputs": [
        {
          "data": {
            "image/png": "[encoded data removed]",
            "text/plain": [
              "<IPython.core.display.Image object>"
            ]
          },
          "execution_count": 20,
          "metadata": {},
          "output_type": "execute_result"
        }
      ],
      "source": [
        "from rag_pipeline.core import RAGPipeline\n",
        "from IPython.core.display import Image\n",
        "\n",
        "\n",
        "rag = RAGPipeline(\n",
        "    checkpoint=checkpointer,\n",
        "    vectorstore=vector_store,\n",
        "    topic_guard_prompt=topic_guard_prompt,\n",
        "    rag_system_prompt=rag_system_prompt,\n",
        "    llm_temperature=0.1,\n",
        "    llm_model_name=\"gpt-4o-mini\",\n",
        "    num_history_messages=5,\n",
        "    num_retrieval_chunks=3,\n",
        ")\n",
        "Image(rag.graph.get_graph().draw_mermaid_png())"
      ]
    },
    {
      "cell_type": "code",
      "execution_count": 21,
      "id": "cb28adb0",
      "metadata": {},
      "outputs": [
        {
          "data": {
            "text/plain": [
              "('Hello! How can I assist you today? Please note that if your question is not related to Langgraph or its documentation, I may not be able to provide an answer.',\n",
              " [])"
            ]
          },
          "execution_count": 21,
          "metadata": {},
          "output_type": "execute_result"
        }
      ],
      "source": [
        "rag.chat(\"Hello\",config=config)"
      ]
    },
    {
      "cell_type": "code",
      "execution_count": null,
      "id": "bae95d1f",
      "metadata": {},
      "outputs": [
        {
          "data": {
            "text/markdown": [
              "### Thought\n",
              "I have retrieved detailed information about LangGraph and its components, including LangSmith. It appears that LangSmith is specifically designed to work within the LangGraph framework, which suggests a collaborative use case.\n",
              "\n",
              "### Action\n",
              "I will summarize how LangGraph and LangSmith can be used together based on the retrieved information.\n",
              "\n",
              "### Observation\n",
              "LangSmith is a specialized API within LangGraph that provides tools for initializing large language models (LLMs), adding conditional edges, and optimizing performance. This indicates that they are intended to complement each other in creating sophisticated AI workflows.\n",
              "\n",
              "### Reflection\n",
              "I have sufficient information to confirm that LangGraph and LangSmith can be used together effectively.\n",
              "\n",
              "### Final Answer\n",
              "Yes, you can use LangGraph together with LangSmith. LangSmith is a specialized API within LangGraph that provides tools for building and managing large language models (LLMs). It allows for the initialization of LLMs, adding conditional edges, and optimizing performance, making it a valuable component for creating sophisticated AI workflows within LangGraph."
            ],
            "text/plain": [
              "<IPython.core.display.Markdown object>"
            ]
          },
          "execution_count": 23,
          "metadata": {},
          "output_type": "execute_result"
        }
      ],
      "source": [
        "from IPython.core.display import Markdown\n",
        "\n",
        "\n",
        "response,sources = rag.chat(\"Can I use langGraph together with langSmith?\",config=config)\n",
        "Markdown(response)"
      ]
    }
  ],
  "metadata": {
    "kernelspec": {
      "display_name": ".venv",
      "language": "python",
      "name": "python3"
    },
    "language_info": {
      "codemirror_mode": {
        "name": "ipython",
        "version": 3
      },
      "file_extension": ".py",
      "mimetype": "text/x-python",
      "name": "python",
      "nbconvert_exporter": "python",
      "pygments_lexer": "ipython3",
      "version": "3.12.2"
    }
  },
  "nbformat": 4,
  "nbformat_minor": 5
}
