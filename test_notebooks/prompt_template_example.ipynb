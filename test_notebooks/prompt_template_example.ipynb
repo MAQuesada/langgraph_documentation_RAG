{
  "cells": [
    {
      "cell_type": "code",
      "execution_count": 4,
      "id": "e814ee8a",
      "metadata": {},
      "outputs": [],
      "source": [
        "from prompts.core import PromptBuilder\n",
        "\n",
        "builder = PromptBuilder(config_path=\"../prompts/config.yaml\")\n"
      ]
    },
    {
      "cell_type": "code",
      "execution_count": 9,
      "id": "b7a3f2b4",
      "metadata": {},
      "outputs": [
        {
          "name": "stdout",
          "output_type": "stream",
          "text": [
            "## ROLE:\n",
            "- You are a helpful assistant.\n",
            "\n",
            "## Your task is as follows:\n",
            "- Write a summary of an article or publication given to you.\n",
            "\n",
            "## Here's some background that may help you:\n",
            "- Some Context: This is a\n",
            "multi-line string.\n",
            "\n",
            "\n",
            "## Ensure your response follows these rules:\n",
            "- Summary format rules:\n",
            "  - Keep the summary to a single paragraph of approximately 80 to 100 words.\n",
            "    - Only increase the length of the summary if the user requests it.\n",
            "    - But keep teh consistency of the summary.\n",
            "  - Avoid bullet points or section headers.\n",
            "- Your answer must be in markdown format. Use the name of the user {user_name}.\n",
            "\n",
            "\n",
            "## Structure your response as follows:\n",
            "- Json format\n",
            "\n",
            "Here is the content you need to work with:\n",
            "<<<BEGIN CONTENT>>>\n",
            "```\n",
            "Some Input Data\n",
            "```\n",
            "<<<END CONTENT>>>\n",
            "\n",
            "Use this systematic approach to provide your response:\n",
            "1. Break down the problem into smaller steps\n",
            "2. Address each step systematically\n",
            "3. Show your reasoning for each step\n",
            "4. Then provide your final conclusion\n",
            "\n",
            "Now perform the task as instructed above.\n"
          ]
        }
      ],
      "source": [
        "template = builder.build_prompt_template(file_path=\"../prompts/template.yml\",\n",
        "                                         input_data=\"Some Input Data\")\n",
        "\n",
        "print(template.template)"
      ]
    }
  ],
  "metadata": {
    "kernelspec": {
      "display_name": ".venv",
      "language": "python",
      "name": "python3"
    },
    "language_info": {
      "codemirror_mode": {
        "name": "ipython",
        "version": 3
      },
      "file_extension": ".py",
      "mimetype": "text/x-python",
      "name": "python",
      "nbconvert_exporter": "python",
      "pygments_lexer": "ipython3",
      "version": "3.12.2"
    }
  },
  "nbformat": 4,
  "nbformat_minor": 5
}
