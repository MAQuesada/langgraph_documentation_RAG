{
  "cells": [
    {
      "cell_type": "markdown",
      "id": "5a1af60d",
      "metadata": {},
      "source": [
        "## Setup "
      ]
    },
    {
      "cell_type": "code",
      "execution_count": 1,
      "id": "822d5262",
      "metadata": {},
      "outputs": [],
      "source": [
        "from vector_database.src.text_splitter import chunk_documents\n",
        "from vector_database.src.utils import load_config\n",
        "\n",
        "from dotenv import load_dotenv\n",
        "from pathlib import Path\n",
        "\n",
        "# 1. Load environment\n",
        "load_dotenv()\n",
        "\n",
        "# 2. Load config\n",
        "config_path = Path(\"config.yaml\")\n",
        "config = load_config(config_path)\n"
      ]
    },
    {
      "cell_type": "markdown",
      "id": "3d9b8825",
      "metadata": {},
      "source": [
        "## Download documents only if needed"
      ]
    },
    {
      "cell_type": "code",
      "execution_count": 2,
      "id": "23bf1adc",
      "metadata": {},
      "outputs": [
        {
          "name": "stdout",
          "output_type": "stream",
          "text": [
            "Target path /Users/manuelalejandroquesada/PERSONAL/REPOSITORIES/langgraph_documentation_RAG/docs/source_docs already exists. Removing for fresh clone.\n",
            "Copying from local cache langgraph_repo/docs/docs to /Users/manuelalejandroquesada/PERSONAL/REPOSITORIES/langgraph_documentation_RAG/docs/source_docs...\n"
          ]
        }
      ],
      "source": [
        "from vector_database.src.documentation_loader import clone_repo, cleanup_old_outputs\n",
        "\n",
        "# 3. If you want to download the docs from GitHub again, run this:\n",
        "cleanup_old_outputs()\n",
        "clone_repo(config)\n",
        "\n"
      ]
    },
    {
      "cell_type": "markdown",
      "id": "f7dff681",
      "metadata": {},
      "source": [
        "## Load the Documents and Analyze the Statistics"
      ]
    },
    {
      "cell_type": "code",
      "execution_count": 3,
      "id": "a64b7965",
      "metadata": {},
      "outputs": [
        {
          "name": "stdout",
          "output_type": "stream",
          "text": [
            "Total number of documents: 184\n",
            "Minimum of document length: 264\n",
            "Average of document length: 10370.11\n",
            "Maximum of document length: 88210\n",
            "Q1 (25th percentile): 3306.0\n",
            "Values below Q1: 46\n",
            "Q2 (50th percentile): 7471.0\n",
            "Values below Q2: 92\n",
            "Q3 (75th percentile): 13031.5\n",
            "Values below Q3: 138\n"
          ]
        }
      ],
      "source": [
        "from vector_database.src.documentation_loader import load_documents\n",
        "import numpy as np\n",
        "\n",
        "# 4. Load documents\n",
        "docs_path = config['data_source']['github']['target_path']\n",
        "all_docs = load_documents(docs_path)\n",
        "len_docs = [len(doc.page_content) for doc in all_docs]\n",
        "\n",
        "arr = np.array(len_docs)\n",
        "\n",
        "# Calculate statistics\n",
        "count = len(arr)\n",
        "minimum = np.min(arr)\n",
        "maximum = np.max(arr)\n",
        "average = np.mean(arr)\n",
        "q1 = np.percentile(arr, 25)\n",
        "q2 = np.percentile(arr, 50)\n",
        "q3 = np.percentile(arr, 75)\n",
        "below_q1 = np.sum(arr < q1)\n",
        "below_q2 = np.sum(arr < q2)\n",
        "below_q3 = np.sum(arr < q3)\n",
        "\n",
        "# Print results\n",
        "print(f\"Total number of documents: {count}\")\n",
        "print(f\"Minimum of document length: {minimum}\")\n",
        "print(f\"Average of document length: {average:.2f}\")\n",
        "print(f\"Maximum of document length: {maximum}\")\n",
        "print(f\"Q1 (25th percentile): {q1}\")\n",
        "print(f\"Values below Q1: {below_q1}\")\n",
        "print(f\"Q2 (50th percentile): {q2}\")\n",
        "print(f\"Values below Q2: {below_q2}\")\n",
        "print(f\"Q3 (75th percentile): {q3}\")\n",
        "print(f\"Values below Q3: {below_q3}\")\n",
        "\n"
      ]
    },
    {
      "cell_type": "code",
      "execution_count": 4,
      "id": "8a8383f5",
      "metadata": {},
      "outputs": [
        {
          "data": {
            "image/png": "[encoded data removed]",
            "text/plain": [
              "<Figure size 1000x250 with 1 Axes>"
            ]
          },
          "metadata": {},
          "output_type": "display_data"
        }
      ],
      "source": [
        "import matplotlib.pyplot as plt\n",
        "import numpy as np\n",
        "\n",
        "plt.style.use('bmh')\n",
        "\n",
        "fig, ax = plt.subplots(figsize=(10, 2.5))\n",
        "\n",
        "box = ax.boxplot(\n",
        "    arr,\n",
        "    vert=False,\n",
        "    patch_artist=True,\n",
        "    widths=0.4,\n",
        "    boxprops=dict(facecolor='#add8e6', color='#555555'),\n",
        "    whiskerprops=dict(color='#555555'),\n",
        "    capprops=dict(color='#555555'),\n",
        "    medianprops=dict(color='black', linewidth=2),\n",
        "    flierprops=dict(marker='o', color='red', alpha=0.5)\n",
        ")\n",
        "{'baseline', 'bottom', 'center', 'center_baseline', 'top'}\n",
        "ax.axvline(average, color='blue', linestyle='--', linewidth=2, label='Mean')\n",
        "\n",
        "ax.text(average + 1000, 1, f'{average:.0f}',\n",
        "        color='blue', va='bottom', ha='left', fontsize=10)\n",
        "\n",
        "ax.set_xlabel(\"Number of characters\", fontsize=12)\n",
        "ax.set_yticks([])  # hide y-axis\n",
        "ax.set_title(\"Document Length Distribution\", fontsize=14)\n",
        "\n",
        "ax.legend(loc='upper right')\n",
        "\n",
        "plt.tight_layout()\n",
        "plt.savefig(\"boxplot.png\", dpi=300)\n",
        "plt.show()"
      ]
    },
    {
      "cell_type": "markdown",
      "id": "4f76b5e4",
      "metadata": {},
      "source": [
        "## Split documents\n",
        "\n",
        "Since approximately 10000 characters corresponds to the midpoint (50th percentile) of document lengths, we consider the half of this value appropriate to establish as a threshold for chunking. For overlapping we will use 800 as we want to avoid splitting ideas in the middle, and especially avoid breaking up code blocks."
      ]
    },
    {
      "cell_type": "code",
      "execution_count": 5,
      "id": "78a230ab",
      "metadata": {},
      "outputs": [
        {
          "name": "stdout",
          "output_type": "stream",
          "text": [
            "581\n"
          ]
        }
      ],
      "source": [
        "\n",
        "# 5. Chunk and save\n",
        "from vector_database.src.text_splitter import save_chunks_to_disk\n",
        "\n",
        "\n",
        "chunks = chunk_documents(all_docs, config)\n",
        "print(len(chunks))\n",
        "# save_chunks_to_disk(chunks)"
      ]
    },
    {
      "cell_type": "markdown",
      "id": "1ab1f94e",
      "metadata": {},
      "source": [
        "## Populate Qdrant Vector Database\n",
        "Only needed the first time that you ingest your documents"
      ]
    },
    {
      "cell_type": "code",
      "execution_count": 7,
      "id": "0b37a26c",
      "metadata": {},
      "outputs": [],
      "source": [
        "from langchain_qdrant import QdrantVectorStore\n",
        "from qdrant_client import QdrantClient\n",
        "from qdrant_client.http.models import Distance, VectorParams\n",
        "\n",
        "from vector_database.src.vector_store import COLLECTION_NAME, get_vector_store\n",
        "\n",
        "\n",
        "vector_store = get_vector_store()\n"
      ]
    },
    {
      "cell_type": "code",
      "execution_count": null,
      "id": "9f871292",
      "metadata": {},
      "outputs": [],
      "source": [
        "vector_store.add_documents(chunks)"
      ]
    },
    {
      "cell_type": "markdown",
      "id": "e47d4f9f",
      "metadata": {},
      "source": [
        "## Initializate the RAG Pipeline"
      ]
    },
    {
      "cell_type": "code",
      "execution_count": 9,
      "id": "b4bc5660",
      "metadata": {},
      "outputs": [],
      "source": [
        "from rag_pipeline.core import RAGPipeline\n",
        "from prompts.core import PromptBuilder\n",
        "from langgraph.checkpoint.memory import MemorySaver\n",
        "\n",
        "builder = PromptBuilder(config_path=\"prompts/config.yaml\")\n",
        "\n",
        "rag_config = {\"configurable\": {\"thread_id\": \"test\"}}\n",
        "\n",
        "topic_guard_prompt, _ = builder.build_prompt(\n",
        "    file_path=\"prompts/topic_guard.yml\")\n",
        "rag_system_prompt, _ = builder.build_prompt(\n",
        "    file_path=\"prompts/rag_system_prompt.yml\")\n",
        "\n",
        "checkpointer = MemorySaver()  # only for testing, for production use `PostgresSaver`\n",
        "\n",
        "\n",
        "rag = RAGPipeline(\n",
        "    checkpoint=checkpointer,\n",
        "    vectorstore=vector_store,\n",
        "    topic_guard_prompt=topic_guard_prompt,\n",
        "    rag_system_prompt=rag_system_prompt,\n",
        "    llm_temperature=0.1,\n",
        "    llm_model_name=\"gpt-4o-mini\",\n",
        "    num_history_messages=5,\n",
        "    num_retrieval_chunks=3,\n",
        ")"
      ]
    },
    {
      "cell_type": "markdown",
      "id": "46818940",
      "metadata": {},
      "source": [
        "## Chat Simulation"
      ]
    },
    {
      "cell_type": "code",
      "execution_count": null,
      "id": "e4d5d518",
      "metadata": {},
      "outputs": [
        {
          "name": "stderr",
          "output_type": "stream",
          "text": [
            "/var/folders/wf/r36br2vs18bdnw4y1vjw_7sc0000gn/T/ipykernel_35992/2130190200.py:34: DeprecationWarning: on_submit is deprecated. Instead, set the .continuous_update attribute to False and observe the value changing with: mywidget.observe(callback, 'value').\n",
            "  input_box.on_submit(on_submit_enter)\n"
          ]
        },
        {
          "data": {
            "application/vnd.jupyter.widget-view+json": {
              "model_id": "fbdc062bc1d0488cb0166d41336f9c01",
              "version_major": 2,
              "version_minor": 0
            },
            "text/plain": [
              "Text(value='', description='User:', layout=Layout(width='100%'), placeholder='Type your question and press Ent…"
            ]
          },
          "metadata": {},
          "output_type": "display_data"
        },
        {
          "data": {
            "application/vnd.jupyter.widget-view+json": {
              "model_id": "daa2cbcb368c470f9d62c80a63dac5ce",
              "version_major": 2,
              "version_minor": 0
            },
            "text/plain": [
              "Output()"
            ]
          },
          "metadata": {},
          "output_type": "display_data"
        }
      ],
      "source": [
        "import ipywidgets as widgets\n",
        "from IPython.display import display, Markdown\n",
        "\n",
        "\n",
        "# Input widget\n",
        "input_box = widgets.Text(\n",
        "    value='',\n",
        "    placeholder='Type your question and press Enter...',\n",
        "    description='User:',\n",
        "    layout=widgets.Layout(width='100%')\n",
        ")\n",
        "\n",
        "# Output widget\n",
        "output_box = widgets.Output()\n",
        "\n",
        "# Handler for Enter key\n",
        "\n",
        "\n",
        "def on_submit_enter(text):\n",
        "    question = input_box.value\n",
        "    answer, sources = rag.chat(question, config=rag_config)\n",
        "    with output_box:\n",
        "        display(Markdown(f\"**🧑 User:** {question}\"))\n",
        "        if sources:\n",
        "            sources = \" -- \".join([f\"`{_}`\" for _ in sources])\n",
        "            display(Markdown(f\"**📚 Sources:** {sources}\"))\n",
        "        # This will render the bot's response as Markdown\n",
        "        display(Markdown(f\"**🤖 Bot:**\\n {answer}\"))\n",
        "        display(Markdown(\"---\"))\n",
        "    input_box.value = ''\n",
        "\n",
        "\n",
        "# Trigger on Enter\n",
        "input_box.on_submit(on_submit_enter)\n",
        "\n",
        "# Show interface\n",
        "display(input_box)\n",
        "display(output_box)"
      ]
    }
  ],
  "metadata": {
    "kernelspec": {
      "display_name": ".venv",
      "language": "python",
      "name": "python3"
    },
    "language_info": {
      "codemirror_mode": {
        "name": "ipython",
        "version": 3
      },
      "file_extension": ".py",
      "mimetype": "text/x-python",
      "name": "python",
      "nbconvert_exporter": "python",
      "pygments_lexer": "ipython3",
      "version": "3.12.2"
    }
  },
  "nbformat": 4,
  "nbformat_minor": 5
}
